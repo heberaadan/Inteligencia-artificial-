{
  "nbformat": 4,
  "nbformat_minor": 0,
  "metadata": {
    "colab": {
      "provenance": [],
      "authorship_tag": "ABX9TyMAWLqgA7WGgAvAlCn5TR0Z",
      "include_colab_link": true
    },
    "kernelspec": {
      "name": "python3",
      "display_name": "Python 3"
    },
    "language_info": {
      "name": "python"
    }
  },
  "cells": [
    {
      "cell_type": "markdown",
      "metadata": {
        "id": "view-in-github",
        "colab_type": "text"
      },
      "source": [
        "<a href=\"https://colab.research.google.com/github/heberaadan/Inteligencia-artificial-/blob/Calculo-Proposicional/programa_clase_2024_03_04.ipynb\" target=\"_parent\"><img src=\"https://colab.research.google.com/assets/colab-badge.svg\" alt=\"Open In Colab\"/></a>"
      ]
    },
    {
      "cell_type": "markdown",
      "source": [
        "\n",
        "# TDD -> Test Driven Developement\n"
      ],
      "metadata": {
        "id": "n9nw3NG237lZ"
      }
    },
    {
      "cell_type": "code",
      "execution_count": 25,
      "metadata": {
        "id": "sQFQ_DE93v5U"
      },
      "outputs": [],
      "source": [
        "def evalua(fp, epa):\n",
        "  # | -> disyucción\n",
        "  # & ->\n",
        "  \"\"\" docstring\n",
        "  >>> evalua('( ! ( p | q ) )', {'p':True,'q':True})\n",
        "  [False]\n",
        "  >>> evalua('( p | q )', {'p':True,'q':True})\n",
        "  [True]\n",
        "  >>> evalua('( p & q )', {'p':True,'q':False})\n",
        "  [False]\n",
        "  >>> evalua('( p => q )', {'p':True,'q':True})\n",
        "  [True]\n",
        "  >>> evalua('( p => q )', {'p':True,'q':False})\n",
        "  [False]\n",
        "  >>> evalua('true', {'p':True,'q':False})\n",
        "  [True]\n",
        "  \"\"\"\n",
        "  # Pasar las pruebas anteriores así como las nuevas\n",
        "  epa['true'] = True\n",
        "  epa['false'] = False\n",
        "  dic_op_una = {'!':'not '}\n",
        "  dic_op_bin = {'|': ' or ', '&':' and ','=>':'','<=>':''}\n",
        "  ops, val = [], [] # Simular pilas con listas\n",
        "  data = fp.split()\n",
        "\n",
        "  for e in data:\n",
        "    if e == '(' : pass # no hacer nada\n",
        "    elif (e in dic_op_una) or (e in dic_op_bin): ops.append(e)\n",
        "    elif e == ')':\n",
        "      op,va = ops.pop(),val.pop()\n",
        "      if op in dic_op_una: va=eval(dic_op_una[op]+str(va))\n",
        "      elif op == '=>': va=eval('not '+str(val.pop())+' or '+str(va))\n",
        "      else: va=eval(str(val.pop())+dic_op_bin[op]+str(va))\n",
        "      val.append(va)\n",
        "    else: val.append(epa[e])\n",
        "  return val"
      ]
    },
    {
      "cell_type": "code",
      "source": [
        "import doctest\n",
        "doctest.run_docstring_examples(evalua,globals(),verbose = False)"
      ],
      "metadata": {
        "id": "p3x6PgBi3xJW"
      },
      "execution_count": 26,
      "outputs": []
    }
  ]
}